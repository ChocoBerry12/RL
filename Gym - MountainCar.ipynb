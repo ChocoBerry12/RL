{
 "cells": [
  {
   "cell_type": "markdown",
   "metadata": {},
   "source": [
    "# MountainCar\n",
    "---\n",
    ">단순한 환경이지만 cartpole, acrobot 과 많이 다르다. 이 환경은 거의 풀기가 거의 불가능하다. acrobot 과 같이 성공으로부터 배우는 데, 성공하는 것이 거의 불가능하다. 카트가 언덕을 오르는 것을 보기가 너무 어렵다. 그래서 reward 를 조작해야한다.\n",
    "\n",
    "\n",
    "* state : 위치, 속도 - continuous\n",
    "* action : 왼쪽, 오른쪽, 가만히 놔두기\n",
    "* reward : 매 프레임마다 -1, 200 프레임이 넘어가면 자연스럽게 종료\n",
    "---"
   ]
  },
  {
   "cell_type": "code",
   "execution_count": 166,
   "metadata": {},
   "outputs": [],
   "source": [
    "%matplotlib notebook  \n",
    "import tensorflow as tf\n",
    "import gym\n",
    "import numpy as np\n",
    "import random\n",
    "import matplotlib.pyplot as plt"
   ]
  },
  {
   "cell_type": "code",
   "execution_count": 167,
   "metadata": {},
   "outputs": [],
   "source": [
    "env = gym.make('MountainCar-v0')"
   ]
  },
  {
   "cell_type": "code",
   "execution_count": 168,
   "metadata": {},
   "outputs": [],
   "source": [
    "size_in = env.observation_space.shape[0]\n",
    "size_out = env.action_space.n\n",
    "size_w1 = 6\n",
    "size_w2 = 10\n",
    "size_w3 = 8\n",
    "\n",
    "lr = .1\n",
    "total_episode = 1000\n",
    "epsilon = 1\n",
    "gamma = .95\n",
    "max_pos = -.4\n",
    "\n",
    "reward = tf.placeholder(tf.float32)\n",
    "STATE_IN = tf.placeholder(tf.float32, [None, size_in])\n",
    "W_1 = tf.Variable(tf.random_normal([size_in, size_w1],stddev=.01), name='W_1')\n",
    "W_2 = tf.Variable(tf.random_normal([size_w1, size_w2],stddev=.01), name='W_2')\n",
    "W_3 = tf.Variable(tf.random_normal([size_w2, size_w3],stddev=.01), name='W_3')\n",
    "out = tf.Variable(tf.random_normal([size_w3, size_out],stddev=.01), name='W_out')"
   ]
  },
  {
   "cell_type": "code",
   "execution_count": 169,
   "metadata": {},
   "outputs": [],
   "source": [
    "L_1 = tf.matmul(STATE_IN, W_1)\n",
    "L_2 = tf.matmul(L_1, W_2)\n",
    "L_3 = tf.matmul(L_2, W_3)\n",
    "L_out = tf.sigmoid(tf.matmul(L_3, out)) ##활성화함수가 tanh - \n",
    "\n",
    "# simple policy gradient 학습 - likelihood x Q\n",
    "loss = tf.reduce_mean(tf.log(L_out)*reward)\n",
    "train = tf.train.AdamOptimizer(lr).minimize(loss)"
   ]
  },
  {
   "cell_type": "code",
   "execution_count": 170,
   "metadata": {},
   "outputs": [],
   "source": [
    "def discounted_reward(r):\n",
    "    dr = np.zeros_like(r)\n",
    "    sum_r = 0\n",
    "    \n",
    "    for i in reversed(range(0, r.size)):\n",
    "        sum_r = gamma*sum_r + r[i]\n",
    "        dr[i] = sum_r  \n",
    "    \n",
    "    return dr"
   ]
  },
  {
   "cell_type": "code",
   "execution_count": 165,
   "metadata": {
    "scrolled": false
   },
   "outputs": [
    {
     "ename": "ValueError",
     "evalue": "The truth value of an array with more than one element is ambiguous. Use a.any() or a.all()",
     "output_type": "error",
     "traceback": [
      "\u001b[1;31m---------------------------------------------------------------------------\u001b[0m",
      "\u001b[1;31mValueError\u001b[0m                                Traceback (most recent call last)",
      "\u001b[1;32m<ipython-input-165-c6797dbb388e>\u001b[0m in \u001b[0;36m<module>\u001b[1;34m\u001b[0m\n\u001b[0;32m     32\u001b[0m \u001b[1;33m\u001b[0m\u001b[0m\n\u001b[0;32m     33\u001b[0m             \u001b[1;31m#\u001b[0m\u001b[1;33m\u001b[0m\u001b[1;33m\u001b[0m\u001b[1;33m\u001b[0m\u001b[0m\n\u001b[1;32m---> 34\u001b[1;33m             \u001b[1;32mif\u001b[0m\u001b[1;33m(\u001b[0m\u001b[0mstate\u001b[0m\u001b[1;33m[\u001b[0m\u001b[1;36m0\u001b[0m\u001b[1;33m]\u001b[0m \u001b[1;33m>\u001b[0m \u001b[1;33m-\u001b[0m\u001b[1;36m.2\u001b[0m\u001b[1;33m)\u001b[0m\u001b[1;33m:\u001b[0m\u001b[1;33m\u001b[0m\u001b[1;33m\u001b[0m\u001b[0m\n\u001b[0m\u001b[0;32m     35\u001b[0m                 \u001b[0mr\u001b[0m \u001b[1;33m=\u001b[0m \u001b[1;36m1\u001b[0m\u001b[1;33m\u001b[0m\u001b[1;33m\u001b[0m\u001b[0m\n\u001b[0;32m     36\u001b[0m \u001b[1;33m\u001b[0m\u001b[0m\n",
      "\u001b[1;31mValueError\u001b[0m: The truth value of an array with more than one element is ambiguous. Use a.any() or a.all()"
     ]
    }
   ],
   "source": [
    "saver = tf.train.Saver()\n",
    "\n",
    "with tf.Session() as sess:\n",
    "    \n",
    "    tf.global_variables_initializer().run()\n",
    "    state_buffer = []\n",
    "    reward_buffer = []\n",
    "    ep = 0\n",
    "    state = env.reset()\n",
    "    reward_sum = 0\n",
    "    step = 0\n",
    "    is_render = False\n",
    "    mean_ep_reward = 0\n",
    "    is_trained = False\n",
    "    \n",
    "    while not is_trained:\n",
    "        done = False\n",
    "        \n",
    "        while not done:\n",
    "            \n",
    "            step = step + 1\n",
    "            state = np.reshape(state, [1, size_in])\n",
    "            state_buffer.append(state)\n",
    "\n",
    "            if(random.random() < epsilon):\n",
    "                action = env.action_space.sample()\n",
    "            else:\n",
    "                pi = sess.run(L_out, feed_dict={STATE_IN:state})\n",
    "                action = np.argmax(pi)\n",
    "                \n",
    "            new_state, r, d, _ = env.step(action)\n",
    "            \n",
    "            #\n",
    "            if(state[0] > -.2):\n",
    "                r = 1                \n",
    "            \n",
    "            state = new_state\n",
    "            reward_sum += r\n",
    "            reward_buffer.append(r)\n",
    "            \n",
    "            if d:\n",
    "                ep += 1\n",
    "                mean_ep_reward += reward_sum\n",
    "\n",
    "                if(ep % 10 == 0):\n",
    "                    mean_ep_reward = mean_ep_reward / 10\n",
    "                    print('------------ {} 평균 : {} ------'.format(ep/10,mean_ep_reward))\n",
    "                    #cartpole과는 다르게 제한시간 내로 목표에 도달하지 못하면 실패한 것으로 \n",
    "                    # 학습 종료\n",
    "\n",
    "                    mean_ep_reward = 0\n",
    "\n",
    "                if(epsilon < .2):\n",
    "                    epsilon = .2\n",
    "                else:\n",
    "                    epsilon *= .99\n",
    "\n",
    "                eps = np.vstack(state_buffer)\n",
    "                epr = np.vstack(reward_buffer)\n",
    "                epr = discounted_reward(epr)\n",
    "\n",
    "                sess.run(train, feed_dict={STATE_IN:eps, reward:epr})                    \n",
    "                print(ep, reward_sum, step)\n",
    "\n",
    "                state_buffer, reward_buffer = [],[]                \n",
    "                reward_sum = 0\n",
    "                done = True\n",
    "                state = env.reset()\n",
    "                step = 0\n",
    "\n",
    "    done = False"
   ]
  }
 ],
 "metadata": {
  "kernelspec": {
   "display_name": "Python 3",
   "language": "python",
   "name": "python3"
  },
  "language_info": {
   "codemirror_mode": {
    "name": "ipython",
    "version": 3
   },
   "file_extension": ".py",
   "mimetype": "text/x-python",
   "name": "python",
   "nbconvert_exporter": "python",
   "pygments_lexer": "ipython3",
   "version": "3.6.7"
  }
 },
 "nbformat": 4,
 "nbformat_minor": 2
}
