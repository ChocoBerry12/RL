{
 "cells": [
  {
   "cell_type": "markdown",
   "metadata": {},
   "source": [
    "# Advantage Actor Critic\n",
    "---\n",
    "* detach 는 상수취급 해야할 때 적용"
   ]
  },
  {
   "cell_type": "code",
   "execution_count": 2,
   "metadata": {},
   "outputs": [],
   "source": [
    "import torch\n",
    "import torch.nn as nn\n",
    "import torch.nn.functional as F\n",
    "import torch.optim as optim\n",
    "from torch.distributions import categorical\n",
    "import gym\n",
    "import random"
   ]
  },
  {
   "cell_type": "code",
   "execution_count": 6,
   "metadata": {},
   "outputs": [],
   "source": [
    "env = gym.make('CartPole-v1')"
   ]
  },
  {
   "cell_type": "code",
   "execution_count": 8,
   "metadata": {},
   "outputs": [],
   "source": [
    "# hyper parameters\n",
    "EPSILON = 1\n",
    "GAMMA = .95"
   ]
  },
  {
   "cell_type": "code",
   "execution_count": 9,
   "metadata": {},
   "outputs": [],
   "source": [
    "class A2C(nn.Module):\n",
    "    def __init__(self):\n",
    "        super(A2C, self).__init__()\n",
    "        self.fc1 = nn.Linear(4, 32)\n",
    "        self.fc_pi = nn.Linear(32, 2)\n",
    "        self.fc_v = nn.Linear(32, 1)\n",
    "        \n",
    "    def pi(self, x):\n",
    "        x = self.fc1(x)\n",
    "        x = torch.softmax(self.fx_pi(x), dim=0)\n",
    "        return x\n",
    "    def v(self, x):\n",
    "        x = self.fc_1(x)\n",
    "        x = self.fc_v(x)\n",
    "        return x"
   ]
  },
  {
   "cell_type": "code",
   "execution_count": 10,
   "metadata": {},
   "outputs": [],
   "source": [
    "def train(batch):\n",
    "    v_target = r + gamma * net.v(s2)\n",
    "    advantage = v_target - net.v(s)\n",
    "    \n",
    "    log_p = batch[1]\n",
    "    loss = F.mse_loss(v_target.detach(), net.v(s)) -log_p * advantage.detach()\n",
    "    "
   ]
  },
  {
   "cell_type": "code",
   "execution_count": null,
   "metadata": {},
   "outputs": [],
   "source": [
    "ep = 1\n",
    "total_ep = 100\n",
    "agent = A2C()\n",
    "\n",
    "while(ep < total_ep):\n",
    "    done = False\n",
    "    state = env.reset()\n",
    "    total_reward = 0\n",
    "    \n",
    "    while(not done):\n",
    "        if(random.random() < EPSILON):\n",
    "            action = env.action_space.sample()\n",
    "        else:\n",
    "            prob = A2C.pi(torch.from_numpy(state).float())\n",
    "            m = categorical(prob)\n",
    "            action = m.sample().item()\n",
    "        \n",
    "        state_next, reward, done, _ = env.step(aciton)\n",
    "        train()\n",
    "\n",
    "        total_reward += reward\n",
    "        state = state_next\n",
    "        \n",
    "        if(done):\n",
    "            print(total_reward)"
   ]
  }
 ],
 "metadata": {
  "kernelspec": {
   "display_name": "Python 3",
   "language": "python",
   "name": "python3"
  },
  "language_info": {
   "codemirror_mode": {
    "name": "ipython",
    "version": 3
   },
   "file_extension": ".py",
   "mimetype": "text/x-python",
   "name": "python",
   "nbconvert_exporter": "python",
   "pygments_lexer": "ipython3",
   "version": "3.6.8"
  }
 },
 "nbformat": 4,
 "nbformat_minor": 2
}
