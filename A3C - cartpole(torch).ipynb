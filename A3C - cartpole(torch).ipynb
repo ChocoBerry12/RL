{
 "cells": [
  {
   "cell_type": "code",
   "execution_count": 1,
   "metadata": {},
   "outputs": [],
   "source": [
    "import torch\n",
    "import torch.optim as optim\n",
    "import torch.nn as nn\n",
    "import torch.nn.functional as F\n",
    "import multiprocessing as mp\n",
    "from torch.autograd import variable\n",
    "from torch.distributions import Categorical\n",
    "import gym\n",
    "import random"
   ]
  },
  {
   "cell_type": "code",
   "execution_count": 2,
   "metadata": {},
   "outputs": [],
   "source": [
    "ALPHA = .001\n",
    "EPISODE = 100\n",
    "EPSILON = 1"
   ]
  },
  {
   "cell_type": "code",
   "execution_count": 3,
   "metadata": {},
   "outputs": [],
   "source": [
    "class A3C(nn.Module):\n",
    "    def __init(self):\n",
    "        super(A3C, self).__init__()\n",
    "        self.fc1 = nn.Linear(4, 32)\n",
    "        self.fc_pi = nn.Linear(32, 2)\n",
    "        self.fc_v = nn.Linear(32, 1)\n",
    "    \n",
    "    def pi(self, x):\n",
    "        x = self.fc1(x)\n",
    "        x = F.softmax(self.fc_pi(x), dim=0)\n",
    "        return x\n",
    "    \n",
    "    def v(self, x):\n",
    "        x = self.fc1(x)\n",
    "        x = self.fc_v(x)\n",
    "        return x"
   ]
  },
  {
   "cell_type": "code",
   "execution_count": 4,
   "metadata": {},
   "outputs": [],
   "source": [
    "# 독립 agent 학습 환경\n",
    "def train_worker(net):\n",
    "    EPISODE = 100\n",
    "    env = gym.make('CartPole-v1')\n",
    "    optimizer = optim.Adam(net.parameters(), ALPHA)\n",
    "    ep = 1\n",
    "    \n",
    "    while(ep < EPISODE):\n",
    "        done = False\n",
    "        state = env.reset()\n",
    "\n",
    "        while(not done):\n",
    "            s_buf, a_buf, r_buf = [], [], []\n",
    "            \n",
    "            # 일정 step 만큼 경험 쌓기\n",
    "            for t in range(5):\n",
    "                \n",
    "                # action 선택\n",
    "                action_prob = net.pi(torch.from_numpy(state).float())\n",
    "                m = Categorical(action_prob)\n",
    "                action = m.sample().item()\n",
    "\n",
    "                # step 진행\n",
    "                state_next, reward, done, _ = env.step(a)\n",
    "\n",
    "                # episode history 쌓기\n",
    "                s_buf.append(state)\n",
    "                a_buf.append(action)\n",
    "                r_buf.append(reward)\n",
    "                \n",
    "                # state 갱신\n",
    "                state = state_next\n",
    "\n",
    "                if(done):\n",
    "                    break\n",
    "                    \n",
    "            discounted = 0\n",
    "            dis_lst = []\n",
    "            \n",
    "            # discounted reward to go 계산\n",
    "            for r in r_buf:\n",
    "                discounted = r + GAMMA * discounted\n",
    "                dis_lst.append(discounted)\n",
    "            dis_lst.reverse()\n",
    "            \n",
    "            s_buf = torch.tensor(s_buf, dtype=torch.float)\n",
    "            a_buf = torch.tensor(a_buf)\n",
    "            r_buf = torch.tensor(r_buf)\n",
    "            \n",
    "            # Advantage 계산\n",
    "            td_target = r_buf + GAMMA * net.v(s_buf)\n",
    "            advantage = dis_lst - net.v(s_buf)\n",
    "            \n",
    "            # policy 계산\n",
    "            pi = net.pi(s_buf, softmax_dim=1)\n",
    "            pi_a = pi.gather(1, a_buf)\n",
    "            \n",
    "            # 통합 loss\n",
    "            loss = -torch.log(pi_a) * advantage.detach() + F.mse_loss(net.v(s_buf), td_target.detach())\n",
    "            \n",
    "            optimizer.zero_grad()\n",
    "            loss.mead().backward()\n",
    "            optimizer.step()\n",
    "    env.close()\n",
    "    print(\"Training process reached maximum episode.\")\n"
   ]
  },
  {
   "cell_type": "code",
   "execution_count": 6,
   "metadata": {},
   "outputs": [
    {
     "ename": "RuntimeError",
     "evalue": "context has already been set",
     "output_type": "error",
     "traceback": [
      "\u001b[1;31m---------------------------------------------------------------------------\u001b[0m",
      "\u001b[1;31mRuntimeError\u001b[0m                              Traceback (most recent call last)",
      "\u001b[1;32m<ipython-input-6-f77011f36f5d>\u001b[0m in \u001b[0;36m<module>\u001b[1;34m\u001b[0m\n\u001b[0;32m      6\u001b[0m     \u001b[0mprocesses\u001b[0m \u001b[1;33m=\u001b[0m \u001b[1;33m[\u001b[0m\u001b[1;33m]\u001b[0m\u001b[1;33m\u001b[0m\u001b[1;33m\u001b[0m\u001b[0m\n\u001b[0;32m      7\u001b[0m \u001b[1;33m\u001b[0m\u001b[0m\n\u001b[1;32m----> 8\u001b[1;33m     \u001b[0mmp\u001b[0m\u001b[1;33m.\u001b[0m\u001b[0mset_start_method\u001b[0m\u001b[1;33m(\u001b[0m\u001b[1;34m'spawn'\u001b[0m\u001b[1;33m)\u001b[0m\u001b[1;33m\u001b[0m\u001b[1;33m\u001b[0m\u001b[0m\n\u001b[0m\u001b[0;32m      9\u001b[0m     \u001b[0mq\u001b[0m \u001b[1;33m=\u001b[0m \u001b[0mmp\u001b[0m\u001b[1;33m.\u001b[0m\u001b[0mQueue\u001b[0m\u001b[1;33m(\u001b[0m\u001b[1;33m)\u001b[0m\u001b[1;33m\u001b[0m\u001b[1;33m\u001b[0m\u001b[0m\n\u001b[0;32m     10\u001b[0m     \u001b[1;32mfor\u001b[0m \u001b[0mi\u001b[0m \u001b[1;32min\u001b[0m \u001b[0mrange\u001b[0m\u001b[1;33m(\u001b[0m\u001b[1;36m5\u001b[0m\u001b[1;33m)\u001b[0m\u001b[1;33m:\u001b[0m\u001b[1;33m\u001b[0m\u001b[1;33m\u001b[0m\u001b[0m\n",
      "\u001b[1;32mC:\\Anaconda\\lib\\multiprocessing\\context.py\u001b[0m in \u001b[0;36mset_start_method\u001b[1;34m(self, method, force)\u001b[0m\n\u001b[0;32m    240\u001b[0m     \u001b[1;32mdef\u001b[0m \u001b[0mset_start_method\u001b[0m\u001b[1;33m(\u001b[0m\u001b[0mself\u001b[0m\u001b[1;33m,\u001b[0m \u001b[0mmethod\u001b[0m\u001b[1;33m,\u001b[0m \u001b[0mforce\u001b[0m\u001b[1;33m=\u001b[0m\u001b[1;32mFalse\u001b[0m\u001b[1;33m)\u001b[0m\u001b[1;33m:\u001b[0m\u001b[1;33m\u001b[0m\u001b[1;33m\u001b[0m\u001b[0m\n\u001b[0;32m    241\u001b[0m         \u001b[1;32mif\u001b[0m \u001b[0mself\u001b[0m\u001b[1;33m.\u001b[0m\u001b[0m_actual_context\u001b[0m \u001b[1;32mis\u001b[0m \u001b[1;32mnot\u001b[0m \u001b[1;32mNone\u001b[0m \u001b[1;32mand\u001b[0m \u001b[1;32mnot\u001b[0m \u001b[0mforce\u001b[0m\u001b[1;33m:\u001b[0m\u001b[1;33m\u001b[0m\u001b[1;33m\u001b[0m\u001b[0m\n\u001b[1;32m--> 242\u001b[1;33m             \u001b[1;32mraise\u001b[0m \u001b[0mRuntimeError\u001b[0m\u001b[1;33m(\u001b[0m\u001b[1;34m'context has already been set'\u001b[0m\u001b[1;33m)\u001b[0m\u001b[1;33m\u001b[0m\u001b[1;33m\u001b[0m\u001b[0m\n\u001b[0m\u001b[0;32m    243\u001b[0m         \u001b[1;32mif\u001b[0m \u001b[0mmethod\u001b[0m \u001b[1;32mis\u001b[0m \u001b[1;32mNone\u001b[0m \u001b[1;32mand\u001b[0m \u001b[0mforce\u001b[0m\u001b[1;33m:\u001b[0m\u001b[1;33m\u001b[0m\u001b[1;33m\u001b[0m\u001b[0m\n\u001b[0;32m    244\u001b[0m             \u001b[0mself\u001b[0m\u001b[1;33m.\u001b[0m\u001b[0m_actual_context\u001b[0m \u001b[1;33m=\u001b[0m \u001b[1;32mNone\u001b[0m\u001b[1;33m\u001b[0m\u001b[1;33m\u001b[0m\u001b[0m\n",
      "\u001b[1;31mRuntimeError\u001b[0m: context has already been set"
     ]
    }
   ],
   "source": [
    "if __name__ == '__main__':\n",
    "    # 글로벌 네트워크 생성\n",
    "    mp.set_start_method('spawn')\n",
    "    q = mp.Queue()\n",
    "    p = mp.Process(target=foo, args=(q,))\n",
    "    p.start()\n",
    "    print(q.get())\n",
    "    p.join()\n",
    "    \n",
    "    Global_net = A3C()\n",
    "    Global_net.share_memory()\n",
    "    processes = []\n",
    "\n",
    "    # 프로세스 생성\n",
    "    p = Pool(processes=5)\n",
    "    p.map_async(train_worker, Global_net)\n",
    "\n",
    "    \n",
    "    '''\n",
    "    for i in range(5):\n",
    "        p = mp.Process(target=train_worker, args=(Global_net))\n",
    "        p.start()\n",
    "        processes.append(p)\n",
    "\n",
    "    for proc in processes:\n",
    "        proc.join()'''"
   ]
  }
 ],
 "metadata": {
  "kernelspec": {
   "display_name": "Python 3",
   "language": "python",
   "name": "python3"
  },
  "language_info": {
   "codemirror_mode": {
    "name": "ipython",
    "version": 3
   },
   "file_extension": ".py",
   "mimetype": "text/x-python",
   "name": "python",
   "nbconvert_exporter": "python",
   "pygments_lexer": "ipython3",
   "version": "3.6.8"
  }
 },
 "nbformat": 4,
 "nbformat_minor": 2
}
