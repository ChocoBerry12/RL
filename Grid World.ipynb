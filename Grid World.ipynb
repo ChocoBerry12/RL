{
 "cells": [
  {
   "cell_type": "code",
   "execution_count": 68,
   "metadata": {},
   "outputs": [],
   "source": [
    "import numpy as np"
   ]
  },
  {
   "cell_type": "code",
   "execution_count": 320,
   "metadata": {},
   "outputs": [],
   "source": [
    "'''\n",
    "environment\n",
    "'''\n",
    "\n",
    "n_map = 4\n",
    "n_action = 4\n",
    "action = np.array([0,1,2,3]) # 상하좌우\n",
    "\n",
    "# env\n",
    "grid_world = np.array([0,0,0,0,\n",
    "                     0,-1,0,-1,\n",
    "                     0,0,0,-1,\n",
    "                    -1,0,0,1]).reshape(n_map,-1)\n",
    "\n",
    "# move 만 하는 함수\n",
    "def move(a, r, c):\n",
    "    if(a == 0 and r > 0):\n",
    "        r -= 1\n",
    "        \n",
    "    elif(a == 1 and r < 3):\n",
    "        r += 1\n",
    "        \n",
    "    elif(a == 2 and c > 0):\n",
    "        c -= 1\n",
    "        \n",
    "    elif(a == 3 and c < 3):\n",
    "        c += 1\n",
    "        \n",
    "\n",
    "# R(s,a)\n",
    "# P(s'|s,a)\n",
    "def get_reward(a, r, c):\n",
    "\n",
    "    reward = 0\n",
    "    \n",
    "    if(a == 0 and r > 0):\n",
    "        r -= 1\n",
    "        \n",
    "    elif(a == 1 and r < 3):\n",
    "        r += 1\n",
    "        \n",
    "    elif(a == 2 and c > 0):\n",
    "        c -= 1\n",
    "        \n",
    "    elif(a == 3 and c < 3):\n",
    "        c += 1\n",
    "        \n",
    "    else:\n",
    "        return reward\n",
    "    \n",
    "    reward = grid_world[r, c]\n",
    "\n",
    "    return reward\n",
    "\n",
    "        \n",
    "# discount factor\n",
    "gamma = 0.9\n",
    "\n",
    "# value table\n",
    "# policy table\n",
    "value = np.zeros_like(grid_world)\n",
    "policy = np.ones([n_action, n_map, n_map]) / n_action"
   ]
  },
  {
   "cell_type": "code",
   "execution_count": 321,
   "metadata": {},
   "outputs": [],
   "source": [
    "def evaluation(value):\n",
    "    next_v = np.zeros_like(grid_world, dtype=np.float16)\n",
    "    \n",
    "    # 모든 state 에 대해서\n",
    "    for row in range(n_map):\n",
    "        for col in range(n_map):\n",
    "            for a in range(n_action):\n",
    "                reward = get_reward(a, row, col)\n",
    "                #print(reward)\n",
    "                next_v[row, col] += policy[a, row, col] * (reward + gamma * value[row, col])\n",
    "    \n",
    "    value = next_v\n",
    "    return value"
   ]
  },
  {
   "cell_type": "code",
   "execution_count": 335,
   "metadata": {},
   "outputs": [
    {
     "name": "stdout",
     "output_type": "stream",
     "text": [
      "[[ 0.    -2.492  0.    -2.492]\n",
      " [-2.492  0.    -4.984 -2.492]\n",
      " [-2.492 -2.492 -2.492  0.   ]\n",
      " [ 0.    -2.492  2.492 -2.492]]\n"
     ]
    }
   ],
   "source": [
    "for i in range(10):\n",
    "    value = evaluation(value)\n",
    "print(value)"
   ]
  },
  {
   "cell_type": "code",
   "execution_count": 101,
   "metadata": {},
   "outputs": [],
   "source": [
    "def improvement():\n",
    "    pass"
   ]
  }
 ],
 "metadata": {
  "kernelspec": {
   "display_name": "Python 3",
   "language": "python",
   "name": "python3"
  },
  "language_info": {
   "codemirror_mode": {
    "name": "ipython",
    "version": 3
   },
   "file_extension": ".py",
   "mimetype": "text/x-python",
   "name": "python",
   "nbconvert_exporter": "python",
   "pygments_lexer": "ipython3",
   "version": "3.6.7"
  }
 },
 "nbformat": 4,
 "nbformat_minor": 2
}
