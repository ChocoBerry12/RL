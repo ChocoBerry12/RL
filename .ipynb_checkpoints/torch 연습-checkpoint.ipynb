{
 "cells": [
  {
   "cell_type": "markdown",
   "metadata": {},
   "source": [
    "# PyTorch\n",
    "---\n",
    "## pytorch 로 갈아타기\n",
    "---\n",
    "* define by run - 직관적임. 빠르게 작성 가능\n",
    "* https://pytorch.org/docs/stable/distributions.html#score-function - policy gradient 를 위한 score function\n",
    "* zero grad 해주는 것 중요\n",
    "* 그래디언트 계산 후 optimizer 업데이트\n",
    "* https://monkey3199.github.io/develop/python/2018/12/04/python-pararrel.html - 파이썬 멀티쓰레드 vs 멀티프로세스\n",
    "* https://medium.com/@grvsinghal/speed-up-your-python-code-using-multiprocessing-on-windows-and-jupyter-or-ipython-2714b49d6fac - jupyter 에서 멀티프로세스 구동가능법\n",
    "* https://github.com/MorvanZhou/pytorch-A3C/blob/master/discrete_A3C.py - 멀티프로세스 상속"
   ]
  },
  {
   "cell_type": "code",
   "execution_count": 245,
   "metadata": {},
   "outputs": [],
   "source": [
    "import torch\n",
    "import torch.nn as nn\n",
    "import torch.nn.functional as F\n",
    "import torch.optim as optim\n",
    "from torch.autograd import Variable\n",
    "import numpy as np"
   ]
  },
  {
   "cell_type": "code",
   "execution_count": 24,
   "metadata": {},
   "outputs": [
    {
     "name": "stdout",
     "output_type": "stream",
     "text": [
      "tensor([[0., 0.],\n",
      "        [0., 0.],\n",
      "        [0., 0.]])\n"
     ]
    }
   ],
   "source": [
    "x = torch.Tensor(3,2)\n",
    "print(x)"
   ]
  },
  {
   "cell_type": "code",
   "execution_count": 32,
   "metadata": {},
   "outputs": [
    {
     "name": "stdout",
     "output_type": "stream",
     "text": [
      "tensor([[-1.2789e-26,  2.7655e+24,  6.3233e+17],\n",
      "        [ 3.2992e-12,  1.2457e+09,  3.1844e+24]])\n",
      "tensor([[-1.2789e-26,  2.7655e+24,  6.3233e+17],\n",
      "        [ 3.2992e-12,  1.2457e+09,  3.1844e+24]])\n"
     ]
    }
   ],
   "source": [
    "x = torch.Tensor(2,3)\n",
    "y = torch.Tensor(2,3)\n",
    "x_ = x.add(y)\n",
    "z = x.add_(y)\n",
    "print(x_)\n",
    "print(z)"
   ]
  },
  {
   "cell_type": "code",
   "execution_count": 41,
   "metadata": {},
   "outputs": [
    {
     "name": "stdout",
     "output_type": "stream",
     "text": [
      "tensor([[-2.5577e-26,  5.5311e+24,  1.2647e+18],\n",
      "        [ 6.5983e-12,  2.4915e+09,  6.3688e+24]])\n"
     ]
    }
   ],
   "source": [
    "torch.rand(3,2)\n",
    "result = torch.Tensor()\n",
    "torch.add(x, y, out = result)\n",
    "print(result)"
   ]
  },
  {
   "cell_type": "code",
   "execution_count": 74,
   "metadata": {},
   "outputs": [
    {
     "name": "stdout",
     "output_type": "stream",
     "text": [
      "tensor([[-1.2789e-26,  2.7655e+24,  6.3233e+17],\n",
      "        [ 3.2992e-12,  1.2457e+09,  3.1844e+24]])\n"
     ]
    },
    {
     "data": {
      "text/plain": [
       "tensor([6.3233e+17, 3.1844e+24])"
      ]
     },
     "execution_count": 74,
     "metadata": {},
     "output_type": "execute_result"
    }
   ],
   "source": [
    "print(x[0:2 , 0:3])\n",
    "x[:,-1]"
   ]
  },
  {
   "cell_type": "code",
   "execution_count": 96,
   "metadata": {},
   "outputs": [
    {
     "name": "stdout",
     "output_type": "stream",
     "text": [
      "tensor([[0.8045, 0.5471, 0.6532, 0.6881, 0.0970],\n",
      "        [0.9023, 0.7274, 0.9176, 0.0089, 0.4032]])\n",
      "tensor([1., 1., 1., 1., 1.])\n",
      "tensor([0.8045, 0.5471, 0.6532, 0.6881, 0.0970, 0.9023, 0.7274, 0.9176, 0.0089,\n",
      "        0.4032])\n"
     ]
    }
   ],
   "source": [
    "x = torch.rand(10)\n",
    "x_ = x.numpy()\n",
    "print(x.view(2,-1))\n",
    "print(torch.ones(5))\n",
    "print(torch.from_numpy(x_))"
   ]
  },
  {
   "cell_type": "markdown",
   "metadata": {},
   "source": [
    "# Variable"
   ]
  },
  {
   "cell_type": "code",
   "execution_count": 132,
   "metadata": {},
   "outputs": [
    {
     "name": "stdout",
     "output_type": "stream",
     "text": [
      "<AddBackward0 object at 0x0000012B82EBE278>\n",
      "tensor([[0.1250, 0.1250, 0.1250, 0.1250],\n",
      "        [0.1250, 0.1250, 0.1250, 0.1250]])\n"
     ]
    }
   ],
   "source": [
    "v = Variable(torch.ones(2,4), requires_grad=True)\n",
    "v_ = v + 4\n",
    "z = v_.mean()\n",
    "print(v_.grad_fn)\n",
    "z.backward()\n",
    "print(v.grad)"
   ]
  },
  {
   "cell_type": "code",
   "execution_count": 260,
   "metadata": {},
   "outputs": [],
   "source": [
    "class Net(nn.Module):\n",
    "    def __init__(self):\n",
    "        super(Net, self).__init__()\n",
    "        self.fc1 = nn.Linear(3, 5)\n",
    "        self.fc2 = nn.Linear(5, 10)\n",
    "        self.fc3 = nn.Linear(10, 4)\n",
    "        \n",
    "    def out1(self, x):\n",
    "        x = self.fc1(x)\n",
    "        x = F.relu(self.fc2(x))\n",
    "        x = F.relu(self.fc3(x))\n",
    "        return x\n",
    "    \n",
    "    def out2(self, x):\n",
    "        x = self.fc2(x)\n",
    "        x = F.sigmoid(x)\n",
    "        return x"
   ]
  },
  {
   "cell_type": "code",
   "execution_count": 262,
   "metadata": {},
   "outputs": [],
   "source": [
    "net = Net()\n",
    "in_ = torch.ones(3)\n",
    "output = net.out1(in_)\n",
    "print(output)\n",
    "#list(net.parameters())"
   ]
  },
  {
   "cell_type": "code",
   "execution_count": 258,
   "metadata": {},
   "outputs": [
    {
     "name": "stdout",
     "output_type": "stream",
     "text": [
      "tensor(0.7929, grad_fn=<MeanBackward0>)\n",
      "<MeanBackward0 object at 0x0000012B8560ADD8>\n",
      "<PowBackward0 object at 0x0000012B854FEA90>\n",
      "<SubBackward0 object at 0x0000012B8560ADD8>\n"
     ]
    }
   ],
   "source": [
    "target = torch.ones(4)\n",
    "loss_f = nn.MSELoss()\n",
    "loss = loss_f(target, output)\n",
    "print(loss)\n",
    "loss.backward()\n",
    "print(loss.grad_fn)\n",
    "print(loss.grad_fn.next_functions[0][0])\n",
    "print(loss.grad_fn.next_functions[0][0].next_functions[0][0])"
   ]
  },
  {
   "cell_type": "code",
   "execution_count": 259,
   "metadata": {},
   "outputs": [],
   "source": [
    "net.zero_grad()\n",
    "optimizer = optim.Adam(net.parameters(), lr=.001)\n",
    "optimizer.zero_grad()\n",
    "optimizer.step()"
   ]
  }
 ],
 "metadata": {
  "kernelspec": {
   "display_name": "Python 3",
   "language": "python",
   "name": "python3"
  },
  "language_info": {
   "codemirror_mode": {
    "name": "ipython",
    "version": 3
   },
   "file_extension": ".py",
   "mimetype": "text/x-python",
   "name": "python",
   "nbconvert_exporter": "python",
   "pygments_lexer": "ipython3",
   "version": "3.6.8"
  }
 },
 "nbformat": 4,
 "nbformat_minor": 2
}
