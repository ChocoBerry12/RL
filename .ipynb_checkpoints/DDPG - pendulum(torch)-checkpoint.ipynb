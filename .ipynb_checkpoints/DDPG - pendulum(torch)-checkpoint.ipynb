{
 "cells": [
  {
   "cell_type": "markdown",
   "metadata": {},
   "source": [
    "# DDQG"
   ]
  },
  {
   "cell_type": "markdown",
   "metadata": {},
   "source": [
    "# 1\n",
    "![title](https://spinningup.openai.com/en/latest/_images/math/77213f7bfdc38e3b3ea6cf42c51d5f9a73e41054.svg)\n",
    "\n",
    "![title](https://spinningup.openai.com/en/latest/_images/math/ec6f2bd53f08da666607434c871e250f86010241.svg)"
   ]
  },
  {
   "cell_type": "code",
   "execution_count": 8,
   "metadata": {},
   "outputs": [],
   "source": [
    "import torch\n",
    "import torch.nn as nn\n",
    "import torch.optim as optim\n",
    "import torch.nn.functional as F\n",
    "import torch.autograd\n",
    "import gym\n",
    "import random"
   ]
  },
  {
   "cell_type": "code",
   "execution_count": 12,
   "metadata": {},
   "outputs": [],
   "source": [
    "class DDPG(nn.Module):\n",
    "    def __init__(self):\n",
    "        super(DDPG, self).__init__()\n",
    "        self.mu_1 = nn.Linear(3, 10)\n",
    "        self.mu_2 = nn.Linear(10, 1)\n",
    "        \n",
    "    def mu(self, x):\n",
    "        x = self.mu_1(x)\n",
    "        x = nn.tanh(self.mu_2(x))\n",
    "        return x\n",
    "    \n",
    "class DDPG_v(nn.Module):\n",
    "    def __init__(self):\n",
    "        super(DDPG, self).__init__()\n",
    "        self.v_s = nn.Linear(3, 10)\n",
    "        self.v_a = nn.Linear(1, 10)\n",
    "        self.q = nn.Linear(10, 1)\n",
    "        \n",
    "    def value(self, x, a):\n",
    "        x_1 = self.v_1(x)\n",
    "        x_2 = self.v_2(a)\n",
    "        cat = torch.cat([x_1, x_2], dim=1)\n",
    "        q = self.q(cat)\n",
    "        return q"
   ]
  },
  {
   "cell_type": "code",
   "execution_count": null,
   "metadata": {},
   "outputs": [],
   "source": [
    "def train():\n",
    "    "
   ]
  }
 ],
 "metadata": {
  "kernelspec": {
   "display_name": "Python 3",
   "language": "python",
   "name": "python3"
  },
  "language_info": {
   "codemirror_mode": {
    "name": "ipython",
    "version": 3
   },
   "file_extension": ".py",
   "mimetype": "text/x-python",
   "name": "python",
   "nbconvert_exporter": "python",
   "pygments_lexer": "ipython3",
   "version": "3.6.8"
  }
 },
 "nbformat": 4,
 "nbformat_minor": 2
}
