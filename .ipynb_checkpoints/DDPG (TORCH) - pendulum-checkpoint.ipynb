{
 "cells": [
  {
   "cell_type": "markdown",
   "metadata": {},
   "source": [
    "# DDQG"
   ]
  },
  {
   "cell_type": "markdown",
   "metadata": {},
   "source": [
    "![title](https://spinningup.openai.com/en/latest/_images/math/77213f7bfdc38e3b3ea6cf42c51d5f9a73e41054.svg)\n",
    "\n",
    "![title](https://spinningup.openai.com/en/latest/_images/math/ec6f2bd53f08da666607434c871e250f86010241.svg)\n",
    "---\n",
    "\n",
    "## Environment - Pendulum\n",
    "---\n",
    "* action space : torque [-2 ~ 2] (continuous action)\n",
    "* state space : cos, sin, angular speed [-1 ~ 1, -1 ~ 1, -8 ~ 8]\n",
    "* reward (cost) : theta^2 + .1 * theta_dot^2 + .001*(torque^2)\n",
    "* terminal state 는 따로 없음 (Infinity Horizon). 강제로 200 step 넘으면 종료함.\n",
    "> cost 최소화 하는 문제. cost 식을 보면 결국 최소의 힘으로 막대를 거꾸로 세우는 문제"
   ]
  },
  {
   "cell_type": "code",
   "execution_count": 1,
   "metadata": {},
   "outputs": [],
   "source": [
    "import torch\n",
    "import torch.nn as nn\n",
    "import torch.optim as optim\n",
    "import torch.nn.functional as F\n",
    "import gym\n",
    "import random\n",
    "import collections\n",
    "import numpy as np"
   ]
  },
  {
   "cell_type": "code",
   "execution_count": 2,
   "metadata": {},
   "outputs": [],
   "source": [
    "env = gym.make('Pendulum-v0')"
   ]
  },
  {
   "cell_type": "code",
   "execution_count": 88,
   "metadata": {},
   "outputs": [
    {
     "name": "stdout",
     "output_type": "stream",
     "text": [
      "1 200\n",
      "2 200\n",
      "3 200\n",
      "4 200\n",
      "5 200\n"
     ]
    }
   ],
   "source": [
    "i = 0\n",
    "s = env.reset()\n",
    "step = 0\n",
    "\n",
    "while(i < 5):\n",
    "    #env.render()\n",
    "    action = env.action_space.sample()\n",
    "    s2,r,d,_ = env.step(action)\n",
    "    step += 1\n",
    "    #print(r)\n",
    "    if(d):\n",
    "        i += 1\n",
    "        print(i, step)\n",
    "        step = 0\n",
    "        s = env.reset()\n",
    "env.close()"
   ]
  },
  {
   "cell_type": "code",
   "execution_count": 3,
   "metadata": {},
   "outputs": [],
   "source": [
    "# hyper parameters\n",
    "ALPHA_P = .0005\n",
    "ALPHA_V = .001\n",
    "GAMMA = .95\n",
    "EPSILON = 1\n",
    "TOTAL_EP = 1000\n",
    "TAU = .005"
   ]
  },
  {
   "cell_type": "code",
   "execution_count": 4,
   "metadata": {},
   "outputs": [],
   "source": [
    "class DDPG_mu(nn.Module):\n",
    "    def __init__(self):\n",
    "        super(DDPG_mu, self).__init__()\n",
    "        self.mu_1 = nn.Linear(3, 128)\n",
    "        self.mu_2 = nn.Linear(128, 64)\n",
    "        self.mu_3 = nn.Linear(64, 1)\n",
    "\n",
    "    def mu(self, x):\n",
    "        x = torch.relu(self.mu_1(x))\n",
    "        x = torch.relu(self.mu_2(x))\n",
    "        x = torch.tanh(self.mu_3(x)) * 2\n",
    "        return x\n",
    "\n",
    "class DDPG_value(nn.Module):\n",
    "    def __init__(self):\n",
    "        super(DDPG_value, self).__init__()\n",
    "        self.v_s = nn.Linear(3, 64)\n",
    "        self.v_a = nn.Linear(1, 64)\n",
    "        self.q = nn.Linear(128, 32)\n",
    "        self.v_out = nn.Linear(32, 1)\n",
    "\n",
    "    def value(self, x, a):\n",
    "        x_1 = torch.relu(self.v_s(x))\n",
    "        x_2 = torch.relu(self.v_a(a))\n",
    "        cat = torch.cat([x_1, x_2], dim=1)\n",
    "        q = torch.relu(self.q(cat))\n",
    "        q = self.v_out(q)\n",
    "        return q"
   ]
  },
  {
   "cell_type": "code",
   "execution_count": 5,
   "metadata": {},
   "outputs": [],
   "source": [
    "class OrnsteinUhlenbeckNoise:\n",
    "    def __init__(self, mu):\n",
    "        self.theta, self.dt, self.sigma = 0.1, 0.01, 0.1\n",
    "        self.mu = mu\n",
    "        self.x_prev = np.zeros_like(self.mu)\n",
    "\n",
    "    # 함수처럼 호출할 때 실행되는 메서드\n",
    "    def __call__(self):\n",
    "        x = self.x_prev + self.theta * (self.mu - self.x_prev) * self.dt + \\\n",
    "                self.sigma * np.sqrt(self.dt) * np.random.normal(size=self.mu.shape)\n",
    "        self.x_prev = x\n",
    "        return x"
   ]
  },
  {
   "cell_type": "code",
   "execution_count": 6,
   "metadata": {},
   "outputs": [],
   "source": [
    "def train(mu, mu_targ, v, v_targ, memory, opt_mu, opt_v):\n",
    "    batch = random.sample(memory, 32)\n",
    "    \n",
    "    s_lst, a_lst, c_lst, s2_lst, d_lst = [], [], [], [], []\n",
    "    for s,a,c,s2,d in batch:\n",
    "        s_lst.append(s)\n",
    "        a_lst.append([a])\n",
    "        c_lst.append([c])\n",
    "        s2_lst.append(s2)\n",
    "        d_lst.append([d])\n",
    "        \n",
    "    s_lst = torch.tensor(s_lst, dtype=torch.float)\n",
    "    a_lst = torch.tensor(a_lst)\n",
    "    c_lst = torch.tensor(c_lst, dtype=torch.float)\n",
    "    s2_lst = torch.tensor(s2_lst, dtype=torch.float)\n",
    "    d_lst = torch.tensor(d_lst, dtype=torch.float)\n",
    "\n",
    "    targ = c_lst + GAMMA * v_targ.value(s2_lst, mu_targ.mu(s2_lst))\n",
    "    loss_v = F.smooth_l1_loss(targ.detach(), v.value(s_lst, a_lst))\n",
    "    opt_v.zero_grad()\n",
    "    loss_v.backward()\n",
    "    opt_v.step()\n",
    "    \n",
    "    loss_p = -v.value(s_lst, mu.mu(s_lst)).mean()\n",
    "    opt_mu.zero_grad()\n",
    "    loss_p.backward()\n",
    "    opt_p.step()\n"
   ]
  },
  {
   "cell_type": "code",
   "execution_count": 7,
   "metadata": {},
   "outputs": [],
   "source": [
    "def soft_update(net, net_target):\n",
    "    for param_target, param in zip(net_target.parameters(), net.parameters()):\n",
    "        param_target.data.copy_(param_target.data * (1.0 - TAU) + param.data * TAU)"
   ]
  },
  {
   "cell_type": "code",
   "execution_count": 8,
   "metadata": {},
   "outputs": [
    {
     "name": "stdout",
     "output_type": "stream",
     "text": [
      "10 -1231\n",
      "20 -1621\n",
      "30 -1727\n",
      "40 -1675\n",
      "50 -1616\n",
      "60 -1623\n",
      "70 -1512\n",
      "80 -1593\n",
      "90 -1522\n",
      "100 -1522\n",
      "110 -1427\n",
      "120 -1495\n",
      "130 -1399\n",
      "140 -1525\n",
      "150 -1453\n",
      "160 -1435\n",
      "170 -1338\n",
      "180 -1503\n",
      "190 -1466\n",
      "200 -1381\n",
      "210 -1298\n",
      "220 -1302\n",
      "230 -1200\n",
      "240 -912\n",
      "250 -807\n",
      "260 -868\n",
      "270 -1011\n"
     ]
    },
    {
     "ename": "KeyboardInterrupt",
     "evalue": "",
     "output_type": "error",
     "traceback": [
      "\u001b[1;31m---------------------------------------------------------------------------\u001b[0m",
      "\u001b[1;31mKeyboardInterrupt\u001b[0m                         Traceback (most recent call last)",
      "\u001b[1;32m<ipython-input-8-a4774c11dd02>\u001b[0m in \u001b[0;36m<module>\u001b[1;34m\u001b[0m\n\u001b[0;32m     23\u001b[0m         \u001b[0maction\u001b[0m \u001b[1;33m=\u001b[0m \u001b[0mpi\u001b[0m\u001b[1;33m.\u001b[0m\u001b[0mmu\u001b[0m\u001b[1;33m(\u001b[0m\u001b[0mtorch\u001b[0m\u001b[1;33m.\u001b[0m\u001b[0mfrom_numpy\u001b[0m\u001b[1;33m(\u001b[0m\u001b[0mstate\u001b[0m\u001b[1;33m)\u001b[0m\u001b[1;33m.\u001b[0m\u001b[0mfloat\u001b[0m\u001b[1;33m(\u001b[0m\u001b[1;33m)\u001b[0m\u001b[1;33m)\u001b[0m\u001b[1;33m.\u001b[0m\u001b[0mitem\u001b[0m\u001b[1;33m(\u001b[0m\u001b[1;33m)\u001b[0m \u001b[1;33m+\u001b[0m \u001b[0mnoise\u001b[0m\u001b[1;33m(\u001b[0m\u001b[1;33m)\u001b[0m\u001b[1;33m[\u001b[0m\u001b[1;36m0\u001b[0m\u001b[1;33m]\u001b[0m\u001b[1;33m\u001b[0m\u001b[1;33m\u001b[0m\u001b[0m\n\u001b[0;32m     24\u001b[0m         \u001b[1;32mif\u001b[0m\u001b[1;33m(\u001b[0m\u001b[0mrender\u001b[0m\u001b[1;33m)\u001b[0m\u001b[1;33m:\u001b[0m\u001b[1;33m\u001b[0m\u001b[1;33m\u001b[0m\u001b[0m\n\u001b[1;32m---> 25\u001b[1;33m             \u001b[0menv\u001b[0m\u001b[1;33m.\u001b[0m\u001b[0mrender\u001b[0m\u001b[1;33m(\u001b[0m\u001b[1;33m)\u001b[0m\u001b[1;33m\u001b[0m\u001b[1;33m\u001b[0m\u001b[0m\n\u001b[0m\u001b[0;32m     26\u001b[0m         \u001b[0mstate_next\u001b[0m\u001b[1;33m,\u001b[0m \u001b[0mcost\u001b[0m\u001b[1;33m,\u001b[0m \u001b[0mdone\u001b[0m\u001b[1;33m,\u001b[0m \u001b[0m_\u001b[0m \u001b[1;33m=\u001b[0m \u001b[0menv\u001b[0m\u001b[1;33m.\u001b[0m\u001b[0mstep\u001b[0m\u001b[1;33m(\u001b[0m\u001b[1;33m[\u001b[0m\u001b[0maction\u001b[0m\u001b[1;33m]\u001b[0m\u001b[1;33m)\u001b[0m\u001b[1;33m\u001b[0m\u001b[1;33m\u001b[0m\u001b[0m\n\u001b[0;32m     27\u001b[0m         \u001b[0mstep\u001b[0m \u001b[1;33m+=\u001b[0m \u001b[1;36m1\u001b[0m\u001b[1;33m\u001b[0m\u001b[1;33m\u001b[0m\u001b[0m\n",
      "\u001b[1;32mC:\\Anaconda\\lib\\site-packages\\gym\\core.py\u001b[0m in \u001b[0;36mrender\u001b[1;34m(self, mode, **kwargs)\u001b[0m\n\u001b[0;32m    235\u001b[0m \u001b[1;33m\u001b[0m\u001b[0m\n\u001b[0;32m    236\u001b[0m     \u001b[1;32mdef\u001b[0m \u001b[0mrender\u001b[0m\u001b[1;33m(\u001b[0m\u001b[0mself\u001b[0m\u001b[1;33m,\u001b[0m \u001b[0mmode\u001b[0m\u001b[1;33m=\u001b[0m\u001b[1;34m'human'\u001b[0m\u001b[1;33m,\u001b[0m \u001b[1;33m**\u001b[0m\u001b[0mkwargs\u001b[0m\u001b[1;33m)\u001b[0m\u001b[1;33m:\u001b[0m\u001b[1;33m\u001b[0m\u001b[1;33m\u001b[0m\u001b[0m\n\u001b[1;32m--> 237\u001b[1;33m         \u001b[1;32mreturn\u001b[0m \u001b[0mself\u001b[0m\u001b[1;33m.\u001b[0m\u001b[0menv\u001b[0m\u001b[1;33m.\u001b[0m\u001b[0mrender\u001b[0m\u001b[1;33m(\u001b[0m\u001b[0mmode\u001b[0m\u001b[1;33m,\u001b[0m \u001b[1;33m**\u001b[0m\u001b[0mkwargs\u001b[0m\u001b[1;33m)\u001b[0m\u001b[1;33m\u001b[0m\u001b[1;33m\u001b[0m\u001b[0m\n\u001b[0m\u001b[0;32m    238\u001b[0m \u001b[1;33m\u001b[0m\u001b[0m\n\u001b[0;32m    239\u001b[0m     \u001b[1;32mdef\u001b[0m \u001b[0mclose\u001b[0m\u001b[1;33m(\u001b[0m\u001b[0mself\u001b[0m\u001b[1;33m)\u001b[0m\u001b[1;33m:\u001b[0m\u001b[1;33m\u001b[0m\u001b[1;33m\u001b[0m\u001b[0m\n",
      "\u001b[1;32mC:\\Anaconda\\lib\\site-packages\\gym\\envs\\classic_control\\pendulum.py\u001b[0m in \u001b[0;36mrender\u001b[1;34m(self, mode)\u001b[0m\n\u001b[0;32m     80\u001b[0m             \u001b[0mself\u001b[0m\u001b[1;33m.\u001b[0m\u001b[0mimgtrans\u001b[0m\u001b[1;33m.\u001b[0m\u001b[0mscale\u001b[0m \u001b[1;33m=\u001b[0m \u001b[1;33m(\u001b[0m\u001b[1;33m-\u001b[0m\u001b[0mself\u001b[0m\u001b[1;33m.\u001b[0m\u001b[0mlast_u\u001b[0m\u001b[1;33m/\u001b[0m\u001b[1;36m2\u001b[0m\u001b[1;33m,\u001b[0m \u001b[0mnp\u001b[0m\u001b[1;33m.\u001b[0m\u001b[0mabs\u001b[0m\u001b[1;33m(\u001b[0m\u001b[0mself\u001b[0m\u001b[1;33m.\u001b[0m\u001b[0mlast_u\u001b[0m\u001b[1;33m)\u001b[0m\u001b[1;33m/\u001b[0m\u001b[1;36m2\u001b[0m\u001b[1;33m)\u001b[0m\u001b[1;33m\u001b[0m\u001b[1;33m\u001b[0m\u001b[0m\n\u001b[0;32m     81\u001b[0m \u001b[1;33m\u001b[0m\u001b[0m\n\u001b[1;32m---> 82\u001b[1;33m         \u001b[1;32mreturn\u001b[0m \u001b[0mself\u001b[0m\u001b[1;33m.\u001b[0m\u001b[0mviewer\u001b[0m\u001b[1;33m.\u001b[0m\u001b[0mrender\u001b[0m\u001b[1;33m(\u001b[0m\u001b[0mreturn_rgb_array\u001b[0m \u001b[1;33m=\u001b[0m \u001b[0mmode\u001b[0m\u001b[1;33m==\u001b[0m\u001b[1;34m'rgb_array'\u001b[0m\u001b[1;33m)\u001b[0m\u001b[1;33m\u001b[0m\u001b[1;33m\u001b[0m\u001b[0m\n\u001b[0m\u001b[0;32m     83\u001b[0m \u001b[1;33m\u001b[0m\u001b[0m\n\u001b[0;32m     84\u001b[0m     \u001b[1;32mdef\u001b[0m \u001b[0mclose\u001b[0m\u001b[1;33m(\u001b[0m\u001b[0mself\u001b[0m\u001b[1;33m)\u001b[0m\u001b[1;33m:\u001b[0m\u001b[1;33m\u001b[0m\u001b[1;33m\u001b[0m\u001b[0m\n",
      "\u001b[1;32mC:\\Anaconda\\lib\\site-packages\\gym\\envs\\classic_control\\rendering.py\u001b[0m in \u001b[0;36mrender\u001b[1;34m(self, return_rgb_array)\u001b[0m\n\u001b[0;32m     83\u001b[0m         \u001b[0mself\u001b[0m\u001b[1;33m.\u001b[0m\u001b[0mwindow\u001b[0m\u001b[1;33m.\u001b[0m\u001b[0mclear\u001b[0m\u001b[1;33m(\u001b[0m\u001b[1;33m)\u001b[0m\u001b[1;33m\u001b[0m\u001b[1;33m\u001b[0m\u001b[0m\n\u001b[0;32m     84\u001b[0m         \u001b[0mself\u001b[0m\u001b[1;33m.\u001b[0m\u001b[0mwindow\u001b[0m\u001b[1;33m.\u001b[0m\u001b[0mswitch_to\u001b[0m\u001b[1;33m(\u001b[0m\u001b[1;33m)\u001b[0m\u001b[1;33m\u001b[0m\u001b[1;33m\u001b[0m\u001b[0m\n\u001b[1;32m---> 85\u001b[1;33m         \u001b[0mself\u001b[0m\u001b[1;33m.\u001b[0m\u001b[0mwindow\u001b[0m\u001b[1;33m.\u001b[0m\u001b[0mdispatch_events\u001b[0m\u001b[1;33m(\u001b[0m\u001b[1;33m)\u001b[0m\u001b[1;33m\u001b[0m\u001b[1;33m\u001b[0m\u001b[0m\n\u001b[0m\u001b[0;32m     86\u001b[0m         \u001b[0mself\u001b[0m\u001b[1;33m.\u001b[0m\u001b[0mtransform\u001b[0m\u001b[1;33m.\u001b[0m\u001b[0menable\u001b[0m\u001b[1;33m(\u001b[0m\u001b[1;33m)\u001b[0m\u001b[1;33m\u001b[0m\u001b[1;33m\u001b[0m\u001b[0m\n\u001b[0;32m     87\u001b[0m         \u001b[1;32mfor\u001b[0m \u001b[0mgeom\u001b[0m \u001b[1;32min\u001b[0m \u001b[0mself\u001b[0m\u001b[1;33m.\u001b[0m\u001b[0mgeoms\u001b[0m\u001b[1;33m:\u001b[0m\u001b[1;33m\u001b[0m\u001b[1;33m\u001b[0m\u001b[0m\n",
      "\u001b[1;32mC:\\Anaconda\\lib\\site-packages\\pyglet\\window\\win32\\__init__.py\u001b[0m in \u001b[0;36mdispatch_events\u001b[1;34m(self)\u001b[0m\n\u001b[0;32m    618\u001b[0m         \u001b[1;32mwhile\u001b[0m \u001b[0m_user32\u001b[0m\u001b[1;33m.\u001b[0m\u001b[0mPeekMessageW\u001b[0m\u001b[1;33m(\u001b[0m\u001b[0mbyref\u001b[0m\u001b[1;33m(\u001b[0m\u001b[0mmsg\u001b[0m\u001b[1;33m)\u001b[0m\u001b[1;33m,\u001b[0m \u001b[1;36m0\u001b[0m\u001b[1;33m,\u001b[0m \u001b[1;36m0\u001b[0m\u001b[1;33m,\u001b[0m \u001b[1;36m0\u001b[0m\u001b[1;33m,\u001b[0m \u001b[0mPM_REMOVE\u001b[0m\u001b[1;33m)\u001b[0m\u001b[1;33m:\u001b[0m\u001b[1;33m\u001b[0m\u001b[1;33m\u001b[0m\u001b[0m\n\u001b[0;32m    619\u001b[0m             \u001b[0m_user32\u001b[0m\u001b[1;33m.\u001b[0m\u001b[0mTranslateMessage\u001b[0m\u001b[1;33m(\u001b[0m\u001b[0mbyref\u001b[0m\u001b[1;33m(\u001b[0m\u001b[0mmsg\u001b[0m\u001b[1;33m)\u001b[0m\u001b[1;33m)\u001b[0m\u001b[1;33m\u001b[0m\u001b[1;33m\u001b[0m\u001b[0m\n\u001b[1;32m--> 620\u001b[1;33m             \u001b[0m_user32\u001b[0m\u001b[1;33m.\u001b[0m\u001b[0mDispatchMessageW\u001b[0m\u001b[1;33m(\u001b[0m\u001b[0mbyref\u001b[0m\u001b[1;33m(\u001b[0m\u001b[0mmsg\u001b[0m\u001b[1;33m)\u001b[0m\u001b[1;33m)\u001b[0m\u001b[1;33m\u001b[0m\u001b[1;33m\u001b[0m\u001b[0m\n\u001b[0m\u001b[0;32m    621\u001b[0m         \u001b[0mself\u001b[0m\u001b[1;33m.\u001b[0m\u001b[0m_allow_dispatch_event\u001b[0m \u001b[1;33m=\u001b[0m \u001b[1;32mFalse\u001b[0m\u001b[1;33m\u001b[0m\u001b[1;33m\u001b[0m\u001b[0m\n\u001b[0;32m    622\u001b[0m \u001b[1;33m\u001b[0m\u001b[0m\n",
      "\u001b[1;31mKeyboardInterrupt\u001b[0m: "
     ]
    }
   ],
   "source": [
    "# 학습 네트워크와 타겟 네트워크 생성\n",
    "pi, pi_t = DDPG_mu(), DDPG_mu()\n",
    "v, v_t = DDPG_value(), DDPG_value()\n",
    "noise = OrnsteinUhlenbeckNoise(np.zeros(1))\n",
    "\n",
    "pi_t.load_state_dict(pi.state_dict())\n",
    "v_t.load_state_dict(v.state_dict())\n",
    "\n",
    "buffer = collections.deque(maxlen=50000)\n",
    "ep = 1\n",
    "opt_p = optim.Adam(pi.parameters(), ALPHA_P)\n",
    "opt_v = optim.Adam(v.parameters(), ALPHA_V)\n",
    "\n",
    "render = False\n",
    "score = 0\n",
    "\n",
    "while(ep < TOTAL_EP):\n",
    "    done = False\n",
    "    state = env.reset()\n",
    "    step = 1\n",
    "    \n",
    "    while(not done):\n",
    "        action = pi.mu(torch.from_numpy(state).float()).item() + noise()[0]\n",
    "        if(render):\n",
    "            env.render()\n",
    "        state_next, cost, done, _ = env.step([action])\n",
    "        step += 1\n",
    "        score += cost\n",
    "        buffer.append((state, action, cost/100.0, state_next, done))\n",
    "        state = state_next\n",
    "        if(done):\n",
    "            ep += 1\n",
    "            if(score > -500):\n",
    "                render = True\n",
    "            if(ep % 10 == 0):\n",
    "                print(ep, int(score/10))\n",
    "                score = 0\n",
    "            if(len(buffer) > 2000):\n",
    "                for i in range(10):\n",
    "                    train(pi, pi_t, v, v_t, buffer, opt_p, opt_v)\n",
    "                    soft_update(pi, pi_t)\n",
    "                    soft_update(v, v_t)\n",
    "env.close()"
   ]
  }
 ],
 "metadata": {
  "kernelspec": {
   "display_name": "Python 3",
   "language": "python",
   "name": "python3"
  },
  "language_info": {
   "codemirror_mode": {
    "name": "ipython",
    "version": 3
   },
   "file_extension": ".py",
   "mimetype": "text/x-python",
   "name": "python",
   "nbconvert_exporter": "python",
   "pygments_lexer": "ipython3",
   "version": "3.6.8"
  }
 },
 "nbformat": 4,
 "nbformat_minor": 2
}
